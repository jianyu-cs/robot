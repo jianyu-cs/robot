{
 "cells": [
  {
   "cell_type": "markdown",
   "metadata": {},
   "source": [
    "# Problem 2: Optimization"
   ]
  },
  {
   "cell_type": "code",
   "execution_count": 5,
   "metadata": {},
   "outputs": [
    {
     "data": {
      "text/plain": [
       "((100, 30), dtype('float64'), (100,), dtype('float64'))"
      ]
     },
     "execution_count": 5,
     "metadata": {},
     "output_type": "execute_result"
    }
   ],
   "source": [
    "import numpy as np\n",
    "npz = np.load('HW0_P1.npz')\n",
    "A = npz['A']\n",
    "b = npz['b']\n",
    "eps = npz['eps']\n",
    "A.shape, A.dtype, b.shape, b.dtype "
   ]
  },
  {
   "cell_type": "code",
   "execution_count": 2,
   "metadata": {},
   "outputs": [],
   "source": [
    "def solve(A, b, eps): # Newton implementation\n",
    "    # My implementation\n",
    "    x, _, _, _ = np.linalg.lstsq(A, b, rcond=None)\n",
    "    \n",
    "    # Case 1 implementation\n",
    "    if x @ x < eps:\n",
    "        return x\n",
    "    \n",
    "    # Case 2 implementation\n",
    "    d, U = np.linalg.eigh(A.T@A) \n",
    "    k = U.T@(A.T@b)\n",
    "    \n",
    "    def func(lam):\n",
    "        return ((k / (d + 2 * lam))**2).sum() - eps\n",
    "    \n",
    "    def dfunc(lam):\n",
    "        return -4 * ((k**2 / (d+2*lam)**3)).sum()\n",
    "    \n",
    "    lam1 = 0\n",
    "    while True:\n",
    "        lam2 = lam1 - func(lam1) / dfunc(lam1)\n",
    "        if abs(lam1-lam2) < 1e-6:\n",
    "            break\n",
    "        lam1 = lam2\n",
    "    x = U@(np.diag(1/(d + 2 * lam1))@(U.T@(A.T@b)))\n",
    "    return x"
   ]
  },
  {
   "cell_type": "code",
   "execution_count": 3,
   "metadata": {},
   "outputs": [
    {
     "name": "stdout",
     "output_type": "stream",
     "text": [
      "x norm square 0.5000000000002343\n",
      "optimal value 17.2201271319442\n"
     ]
    }
   ],
   "source": [
    "# Evaluation code, you need to run it, but do not modify\n",
    "x = solve(A,b,eps)\n",
    "print('x norm square', x@x)  # x@x should be close to or less then eps\n",
    "print('optimal value', ((A@x - b)**2).sum())"
   ]
  },
  {
   "cell_type": "code",
   "execution_count": 4,
   "metadata": {},
   "outputs": [
    {
     "name": "stdout",
     "output_type": "stream",
     "text": [
      "[ 0.09795038 -0.12841612  0.04953704  0.06482822  0.04341127  0.06206457\n",
      " -0.16418659  0.03840063  0.30916185 -0.12387917  0.06729935 -0.0128481\n",
      " -0.03535067 -0.10851553 -0.02132294 -0.12418857  0.18965704 -0.1572289\n",
      " -0.17646317  0.04182668  0.09246273  0.11353753 -0.10293041 -0.03047962\n",
      "  0.03294807 -0.23714283 -0.14864614 -0.07861543  0.15917449 -0.22602601]\n"
     ]
    }
   ],
   "source": [
    "print(x)"
   ]
  },
  {
   "cell_type": "markdown",
   "metadata": {},
   "source": [
    "# Problem 3: Geometry Processing"
   ]
  },
  {
   "cell_type": "code",
   "execution_count": null,
   "metadata": {},
   "outputs": [],
   "source": []
  }
 ],
 "metadata": {
  "kernelspec": {
   "display_name": "Python 3",
   "language": "python",
   "name": "python3"
  },
  "language_info": {
   "codemirror_mode": {
    "name": "ipython",
    "version": 3
   },
   "file_extension": ".py",
   "mimetype": "text/x-python",
   "name": "python",
   "nbconvert_exporter": "python",
   "pygments_lexer": "ipython3",
   "version": "3.8.5"
  }
 },
 "nbformat": 4,
 "nbformat_minor": 4
}
